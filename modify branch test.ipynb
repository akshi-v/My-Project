{
 "cells": [
  {
   "cell_type": "markdown",
   "id": "a7881eb2",
   "metadata": {},
   "source": [
    "## Chi-Square Test of Independence\n",
    "- A chi-square test of independence is a type of Pearson’s chi-square nonparametric hypothesis test. You can use it to test whether two categorical variables are related to each other. "
   ]
  },
  {
   "cell_type": "raw",
   "id": "7ad02362",
   "metadata": {},
   "source": [
    "1. A survey was conducted to determine if there is an association between gender and preferred mode of transportation. The observed frequencies are as follows:\n",
    "\n",
    "            | Car | Bus | Bicycle |\n",
    "    --------------------------------\n",
    "    Male    | 40  | 30  | 20      |\n",
    "    Female  | 30  | 35  | 25      |\n",
    "\n",
    "    Perform a chi-square test of independence with a significance level of 0.05."
   ]
  },
  {
   "cell_type": "code",
   "execution_count": 2,
   "id": "930ab700",
   "metadata": {},
   "outputs": [
    {
     "name": "stdout",
     "output_type": "stream",
     "text": [
      "Chi-square statistic: 2.3687423687423688\n",
      "P-value: 0.30593849793491334\n"
     ]
    }
   ],
   "source": [
    "import numpy as np\n",
    "from scipy.stats import chi2_contingency\n",
    "\n",
    "observed = np.array([[40, 30, 20], [30, 35, 25]])\n",
    "\n",
    "chi2, p, _, _ = chi2_contingency(observed)\n",
    "\n",
    "print(f\"Chi-square statistic: {chi2}\")\n",
    "print(f\"P-value: {p}\")\n"
   ]
  },
  {
   "cell_type": "raw",
   "id": "f21c99a2",
   "metadata": {},
   "source": [
    "    2. In a study, 200 people were asked about their political affiliation (Democrat, Republican, Independent) and their opinion on a specific issue (Support, Oppose, Neutral). The observed frequencies are as follows:\n",
    "\n",
    "            | Support | Oppose | Neutral |\n",
    "    -------------------------------------\n",
    "    Democrat    | 70      | 50     | 30      |\n",
    "    Republican  | 40      | 45     | 15      |\n",
    "    Independent | 30      | 20     | 10      |\n",
    "\n",
    "    Conduct a chi-square test of independence and determine if there is a relationship between political affiliation and opinion."
   ]
  },
  {
   "cell_type": "code",
   "execution_count": 3,
   "id": "ea7a9df3",
   "metadata": {},
   "outputs": [
    {
     "name": "stdout",
     "output_type": "stream",
     "text": [
      "Chi-square statistic: 4.355637116506684\n",
      "P-value: 0.36000995871070307\n"
     ]
    }
   ],
   "source": [
    "observed = np.array([[70, 50, 30], [40, 45, 15], [30, 20, 10]])\n",
    "\n",
    "chi2, p, _, _ = chi2_contingency(observed)\n",
    "\n",
    "print(f\"Chi-square statistic: {chi2}\")\n",
    "print(f\"P-value: {p}\")\n"
   ]
  },
  {
   "cell_type": "raw",
   "id": "26df18da",
   "metadata": {},
   "source": [
    "3. A researcher wants to investigate if there is a relationship between education level (High School, Bachelor's, Master's) and employment status (Employed, Unemployed). The observed frequencies are as follows:\n",
    "\n",
    "            | Employed | Unemployed |\n",
    "    --------------------------------\n",
    "    High School | 80       | 40         |\n",
    "    Bachelor's  | 120      | 60         |\n",
    "    Master's    | 70       | 30         |\n",
    "\n",
    "    Perform a chi-square test of independence and determine if there is a significant association."
   ]
  },
  {
   "cell_type": "code",
   "execution_count": 4,
   "id": "8cd96d6a",
   "metadata": {},
   "outputs": [
    {
     "name": "stdout",
     "output_type": "stream",
     "text": [
      "Chi-square statistic: 0.37986704653371317\n",
      "P-value: 0.8270141093123012\n"
     ]
    }
   ],
   "source": [
    "observed = np.array([[80, 40], [120, 60], [70, 30]])\n",
    "\n",
    "chi2, p, _, _ = chi2_contingency(observed)\n",
    "\n",
    "print(f\"Chi-square statistic: {chi2}\")\n",
    "print(f\"P-value: {p}\")\n"
   ]
  },
  {
   "cell_type": "raw",
   "id": "2e0882ee",
   "metadata": {},
   "source": [
    "4. A study was conducted to analyze the relationship between smoking habits (Non-Smoker, Occasional Smoker, Regular Smoker) and lung cancer (Present, Absent). The observed frequencies are as follows:\n",
    "\n",
    "            | Present | Absent |\n",
    "    ---------------------------\n",
    "    Non-Smoker        | 100     | 200    |\n",
    "    Occasional Smoker | 80      | 120    |\n",
    "    Regular Smoker    | 70      | 50     |\n",
    "\n",
    "    Conduct a chi-square test of independence to examine the association between smoking habits and lung cancer."
   ]
  },
  {
   "cell_type": "code",
   "execution_count": 5,
   "id": "0b80c0c1",
   "metadata": {},
   "outputs": [
    {
     "name": "stdout",
     "output_type": "stream",
     "text": [
      "Chi-square statistic: 22.27531531531531\n",
      "P-value: 1.4553811241399678e-05\n"
     ]
    }
   ],
   "source": [
    "observed = np.array([[100, 200], [80, 120], [70, 50]])\n",
    "\n",
    "chi2, p, _, _ = chi2_contingency(observed)\n",
    "\n",
    "print(f\"Chi-square statistic: {chi2}\")\n",
    "print(f\"P-value: {p}\")\n"
   ]
  },
  {
   "cell_type": "raw",
   "id": "19860c9f",
   "metadata": {},
   "source": [
    "5. A researcher collected data on students' academic performance (Below Average, Average, Above Average) and their study habits (Good, Fair, Poor). The observed frequencies are as follows:\n",
    "\n",
    "            | Good | Fair | Poor |\n",
    "    -----------------------------\n",
    "    Below Average | 50   | 40   | 30   |\n",
    "    Average       | 60   | 70   | 80   |\n",
    "    Above Average | 30   | 50   | 70   |\n",
    "\n",
    "    Perform a chi-square test of independence to determine if study habits are associated with academic performance."
   ]
  },
  {
   "cell_type": "code",
   "execution_count": 6,
   "id": "985fd5e7",
   "metadata": {},
   "outputs": [
    {
     "name": "stdout",
     "output_type": "stream",
     "text": [
      "Chi-square statistic: 19.156462585034014\n",
      "P-value: 0.000732217428468014\n"
     ]
    }
   ],
   "source": [
    "observed = np.array([[50, 40, 30], [60, 70, 80], [30, 50, 70]])\n",
    "\n",
    "chi2, p, _, _ = chi2_contingency(observed)\n",
    "\n",
    "print(f\"Chi-square statistic: {chi2}\")\n",
    "print(f\"P-value: {p}\")\n"
   ]
  },
  {
   "cell_type": "raw",
   "id": "445a0d0c",
   "metadata": {},
   "source": [
    "6. In a survey, individuals were asked about their preferred social media platform (Facebook, Instagram, Twitter) and their age group (18-24, 25-34, 35-44). The observed frequencies are as follows:\n",
    "\n",
    "            | Facebook | Instagram | Twitter |\n",
    "    ------------------------------------------\n",
    "    18-24       | 100      | 80        | 50      |\n",
    "    25-34       | 90       | 70        | 60      |\n",
    "    35-44       | 60       | 50        | 40      |\n",
    "\n",
    "    Conduct a chi-square test of independence to determine if there is an association between social media platform and age group."
   ]
  },
  {
   "cell_type": "code",
   "execution_count": 7,
   "id": "1350668a",
   "metadata": {},
   "outputs": [
    {
     "name": "stdout",
     "output_type": "stream",
     "text": [
      "Chi-square statistic: 2.207378129117259\n",
      "P-value: 0.6976787235640747\n"
     ]
    }
   ],
   "source": [
    "observed = np.array([[100, 80, 50], [90, 70, 60], [60, 50, 40]])\n",
    "\n",
    "chi2, p, _, _ = chi2_contingency(observed)\n",
    "\n",
    "print(f\"Chi-square statistic: {chi2}\")\n",
    "print(f\"P-value: {p}\")\n"
   ]
  },
  {
   "cell_type": "raw",
   "id": "153bc6ab",
   "metadata": {},
   "source": [
    "7. A study was conducted to investigate the relationship between exercise frequency (None, Moderate, High) and BMI category (Underweight, Normal, Overweight). The observed frequencies are as follows:\n",
    "\n",
    "            | Underweight | Normal | Overweight |\n",
    "    ---------------------------------------------\n",
    "    None            | 40          | 30     | 20         |\n",
    "    Moderate        | 50          | 60     | 40         |\n",
    "    High            | 30          | 40     | 50         |\n",
    "\n",
    "    Perform a chi-square test of independence and determine if exercise frequency is related to BMI category."
   ]
  },
  {
   "cell_type": "code",
   "execution_count": 8,
   "id": "ff9a8d92",
   "metadata": {},
   "outputs": [
    {
     "name": "stdout",
     "output_type": "stream",
     "text": [
      "Chi-square statistic: 14.546620046620053\n",
      "P-value: 0.0057401189280412036\n"
     ]
    }
   ],
   "source": [
    "observed = np.array([[40, 30, 20], [50, 60, 40], [30, 40, 50]])\n",
    "\n",
    "chi2, p, _, _ = chi2_contingency(observed)\n",
    "\n",
    "print(f\"Chi-square statistic: {chi2}\")\n",
    "print(f\"P-value: {p}\")\n"
   ]
  },
  {
   "cell_type": "raw",
   "id": "efcac54f",
   "metadata": {},
   "source": [
    "8. A researcher wants to determine if there is a relationship between job satisfaction (Low, Medium, High) and income level (Low, Medium, High). The observed frequencies are as follows:\n",
    "\n",
    "            | Low | Medium | High |\n",
    "    --------------------------------\n",
    "    Low         | 50   | 40     | 20   |\n",
    "    Medium      | 60   | 70     | 50   |\n",
    "    High        | 30   | 40     | 60   |\n",
    "\n",
    "    Conduct a chi-square test of independence to examine the association between job satisfaction and income level."
   ]
  },
  {
   "cell_type": "code",
   "execution_count": 9,
   "id": "0450abad",
   "metadata": {},
   "outputs": [
    {
     "name": "stdout",
     "output_type": "stream",
     "text": [
      "Chi-square statistic: 26.449584603430758\n",
      "P-value: 2.5679798577117373e-05\n"
     ]
    }
   ],
   "source": [
    "observed = np.array([[50, 40, 20], [60, 70, 50], [30, 40, 60]])\n",
    "\n",
    "chi2, p, _, _ = chi2_contingency(observed)\n",
    "\n",
    "print(f\"Chi-square statistic: {chi2}\")\n",
    "print(f\"P-value: {p}\")\n"
   ]
  },
  {
   "cell_type": "raw",
   "id": "00dec8fb",
   "metadata": {},
   "source": [
    "9. In a survey, individuals were asked about their preferred smartphone brand (Apple, Samsung, Google) and their age group (18-24, 25-34, 35-44). The observed frequencies are as follows:\n",
    "\n",
    "            | Apple | Samsung | Google |\n",
    "    -----------------------------------\n",
    "    18-24       | 80     | 60      | 40     |\n",
    "    25-34       | 70     | 80      | 50     |\n",
    "    35-44       | 40     | 50      | 60     |\n",
    "\n",
    "    Perform a chi-square test of independence to determine if there is an association between smartphone brand and age group."
   ]
  },
  {
   "cell_type": "code",
   "execution_count": 10,
   "id": "bad7a8bb",
   "metadata": {},
   "outputs": [
    {
     "name": "stdout",
     "output_type": "stream",
     "text": [
      "Chi-square statistic: 19.195711500974664\n",
      "P-value: 0.0007193201288627215\n"
     ]
    }
   ],
   "source": [
    "observed = np.array([[80, 60, 40], [70, 80, 50], [40, 50, 60]])\n",
    "\n",
    "chi2, p, _, _ = chi2_contingency(observed)\n",
    "\n",
    "print(f\"Chi-square statistic: {chi2}\")\n",
    "print(f\"P-value: {p}\")\n"
   ]
  },
  {
   "cell_type": "raw",
   "id": "97cd4f2e",
   "metadata": {},
   "source": [
    "10. A study was conducted to analyze the relationship between coffee consumption (None, Moderate, High) and sleep quality (Poor, Average, Good). The observed frequencies are as follows:\n",
    "\n",
    "            | Poor | Average | Good |\n",
    "    --------------------------------\n",
    "    None        | 50   | 40      | 20   |\n",
    "    Moderate    | 60   | 70      | 50   |\n",
    "    High        | 30   | 40      | 60   |\n",
    "\n",
    "    Conduct a chi-square test of independence to examine the association between coffee consumption and sleep quality.\n",
    "\n",
    "Remember to use appropriate Python libraries such as NumPy, Pandas, and SciPy to calculate the chi-square test statistic and perform the hypothesis testing."
   ]
  },
  {
   "cell_type": "code",
   "execution_count": 11,
   "id": "c73a5a2e",
   "metadata": {},
   "outputs": [
    {
     "name": "stdout",
     "output_type": "stream",
     "text": [
      "Chi-square statistic: 26.449584603430758\n",
      "P-value: 2.5679798577117373e-05\n"
     ]
    }
   ],
   "source": [
    "observed = np.array([[50, 40, 20], [60, 70, 50], [30, 40, 60]])\n",
    "\n",
    "chi2, p, _, _ = chi2_contingency(observed)\n",
    "\n",
    "print(f\"Chi-square statistic: {chi2}\")\n",
    "print(f\"P-value: {p}\")\n"
   ]
  },
  {
   "cell_type": "raw",
   "id": "b1f976ed",
   "metadata": {},
   "source": [
    "11. A researcher wants to investigate the relationship between exercise frequency (None, Moderate, High) and overall happiness level (Low, Medium, High). The observed frequencies are as follows:\n",
    "\n",
    "            | Low | Medium | High |\n",
    "    --------------------------------\n",
    "    None        | 40   | 30     | 20   |\n",
    "    Moderate    | 50   | 60     | 40   |\n",
    "    High        | 30   | 40     | 50   |\n",
    "\n",
    "    Perform a chi-square test of independence and determine if there is a significant association between exercise frequency and happiness level."
   ]
  },
  {
   "cell_type": "code",
   "execution_count": 12,
   "id": "45863341",
   "metadata": {},
   "outputs": [
    {
     "name": "stdout",
     "output_type": "stream",
     "text": [
      "Chi-square statistic: 14.546620046620053\n",
      "P-value: 0.0057401189280412036\n"
     ]
    }
   ],
   "source": [
    "observed = np.array([[40, 30, 20], [50, 60, 40], [30, 40, 50]])\n",
    "\n",
    "chi2, p, _, _ = chi2_contingency(observed)\n",
    "\n",
    "print(f\"Chi-square statistic: {chi2}\")\n",
    "print(f\"P-value: {p}\")\n"
   ]
  },
  {
   "cell_type": "raw",
   "id": "ac6c8755",
   "metadata": {},
   "source": [
    "12. In a study, 150 participants were asked about their diet preference (Vegetarian, Non-Vegetarian) and their blood pressure category (Normal, High). The observed frequencies are as follows:\n",
    "\n",
    "            | Normal | High |\n",
    "    --------------------------\n",
    "    Vegetarian    | 60     | 40   |\n",
    "    Non-Vegetarian| 30     | 20   |\n",
    "\n",
    "    Conduct a chi-square test of independence to examine if diet preference is related to blood pressure category."
   ]
  },
  {
   "cell_type": "code",
   "execution_count": 13,
   "id": "966d838c",
   "metadata": {},
   "outputs": [
    {
     "name": "stdout",
     "output_type": "stream",
     "text": [
      "Chi-square statistic: 0.0\n",
      "P-value: 1.0\n"
     ]
    }
   ],
   "source": [
    "observed = np.array([[60, 40], [30, 20]])\n",
    "\n",
    "chi2, p, _, _ = chi2_contingency(observed)\n",
    "\n",
    "print(f\"Chi-square statistic: {chi2}\")\n",
    "print(f\"P-value: {p}\")\n"
   ]
  },
  {
   "cell_type": "raw",
   "id": "be4cb2d2",
   "metadata": {},
   "source": [
    "13. A survey was conducted to analyze the relationship between educational attainment (High School, Bachelor's, Master's) and income level (Low, Medium, High). The observed frequencies are as follows:\n",
    "\n",
    "            | Low | Medium | High |\n",
    "    --------------------------------\n",
    "    High School | 60   | 40     | 20   |\n",
    "    Bachelor's  | 80   | 70     | 50   |\n",
    "    Master's    | 50   | 60     | 40   |\n",
    "\n",
    "    Perform a chi-square test of independence and determine if there is an association between educational attainment and income level."
   ]
  },
  {
   "cell_type": "code",
   "execution_count": 14,
   "id": "6b2f5b33",
   "metadata": {},
   "outputs": [
    {
     "name": "stdout",
     "output_type": "stream",
     "text": [
      "Chi-square statistic: 8.774744347499764\n",
      "P-value: 0.06698313249773426\n"
     ]
    }
   ],
   "source": [
    "observed = np.array([[60, 40, 20], [80, 70, 50], [50, 60, 40]])\n",
    "\n",
    "chi2, p, _, _ = chi2_contingency(observed)\n",
    "\n",
    "print(f\"Chi-square statistic: {chi2}\")\n",
    "print(f\"P-value: {p}\")\n"
   ]
  },
  {
   "cell_type": "raw",
   "id": "62afc4d8",
   "metadata": {},
   "source": [
    "14. In a study, individuals were asked about their preferred music genre (Rock, Pop, Hip-hop) and their age group (18-24, 25-34, 35-44). The observed frequencies are as follows:\n",
    "\n",
    "            | Rock | Pop | Hip-hop |\n",
    "    --------------------------------\n",
    "    18-24       | 100  | 80  | 50      |\n",
    "    25-34       | 90   | 70  | 60      |\n",
    "    35-44       | 60   | 50  | 40      |\n",
    "\n",
    "    Conduct a chi-square test of independence to determine if there is an association between music genre and age group."
   ]
  },
  {
   "cell_type": "code",
   "execution_count": 15,
   "id": "7e77cd18",
   "metadata": {},
   "outputs": [
    {
     "name": "stdout",
     "output_type": "stream",
     "text": [
      "Chi-square statistic: 2.207378129117259\n",
      "P-value: 0.6976787235640747\n"
     ]
    }
   ],
   "source": [
    "observed = np.array([[100, 80, 50], [90, 70, 60], [60, 50, 40]])\n",
    "\n",
    "chi2, p, _, _ = chi2_contingency(observed)\n",
    "\n",
    "print(f\"Chi-square statistic: {chi2}\")\n",
    "print(f\"P-value: {p}\")\n"
   ]
  },
  {
   "cell_type": "raw",
   "id": "c4ef6355",
   "metadata": {},
   "source": [
    "15. A researcher wants to determine if there is a relationship between exercise frequency (None, Moderate, High) and stress level (Low, Medium, High). The observed frequencies are as follows:\n",
    "\n",
    "            | Low | Medium | High |\n",
    "    --------------------------------\n",
    "    None        | 30   | 20     | 10   |\n",
    "    Moderate    | 40   | 50     | 30   |\n",
    "    High        | 20   | 30     | 40   |\n",
    "\n",
    "    Perform a chi-square test of independence and determine if exercise frequency is associated with stress level.\n",
    "\n",
    "Remember to use appropriate Python libraries such as NumPy, Pandas, and SciPy to calculate the chi-square test statistic and perform the hypothesis testing."
   ]
  },
  {
   "cell_type": "code",
   "execution_count": 16,
   "id": "c1a7d784",
   "metadata": {},
   "outputs": [
    {
     "name": "stdout",
     "output_type": "stream",
     "text": [
      "Chi-square statistic: 20.520833333333332\n",
      "P-value: 0.00039401442388340644\n"
     ]
    }
   ],
   "source": [
    "observed = np.array([[30, 20, 10], [40, 50, 30], [20, 30, 40]])\n",
    "\n",
    "chi2, p, _, _ = chi2_contingency(observed)\n",
    "\n",
    "print(f\"Chi-square statistic: {chi2}\")\n",
    "print(f\"P-value: {p}\")\n"
   ]
  },
  {
   "cell_type": "raw",
   "id": "2bae101e",
   "metadata": {},
   "source": [
    "16. A study was conducted to analyze the relationship between smoking habits (Non-Smoker, Occasional Smoker, Regular Smoker) and incidence of respiratory diseases (Yes, No). The observed frequencies are as follows:\n",
    "\n",
    "            | Yes | No |\n",
    "    ---------------------\n",
    "    Non-Smoker        | 100 | 200 |\n",
    "    Occasional Smoker | 80  | 120 |\n",
    "    Regular Smoker    | 70  | 50  |\n",
    "\n",
    "    Conduct a chi-square test of independence to examine the association between smoking habits and respiratory diseases."
   ]
  },
  {
   "cell_type": "code",
   "execution_count": 17,
   "id": "b2d83468",
   "metadata": {},
   "outputs": [
    {
     "name": "stdout",
     "output_type": "stream",
     "text": [
      "Chi-square statistic: 22.27531531531531\n",
      "P-value: 1.4553811241399678e-05\n"
     ]
    }
   ],
   "source": [
    "observed = np.array([[100, 200], [80, 120], [70, 50]])\n",
    "\n",
    "chi2, p, _, _ = chi2_contingency(observed)\n",
    "\n",
    "print(f\"Chi-square statistic: {chi2}\")\n",
    "print(f\"P-value: {p}\")\n"
   ]
  },
  {
   "cell_type": "raw",
   "id": "a6f5a035",
   "metadata": {},
   "source": [
    "17. In a survey, individuals were asked about their preferred vacation destination (Beach, Mountain, City) and their age group (18-24, 25-34, 35-44). The observed frequencies are as follows:\n",
    "\n",
    "            | Beach | Mountain | City |\n",
    "    ----------------------------------\n",
    "    18-24       | 100   | 80       | 50   |\n",
    "    25-34       | 90    | 70       | 60   |\n",
    "    35-44       | 60    | 50       | 40   |\n",
    "\n",
    "    Perform a chi-square test of independence to determine if there is an association between vacation destination and age group."
   ]
  },
  {
   "cell_type": "code",
   "execution_count": 18,
   "id": "ab16821d",
   "metadata": {},
   "outputs": [
    {
     "name": "stdout",
     "output_type": "stream",
     "text": [
      "Chi-square statistic: 2.207378129117259\n",
      "P-value: 0.6976787235640747\n"
     ]
    }
   ],
   "source": [
    "observed = np.array([[100, 80, 50], [90, 70, 60], [60, 50, 40]])\n",
    "\n",
    "chi2, p, _, _ = chi2_contingency(observed)\n",
    "\n",
    "print(f\"Chi-square statistic: {chi2}\")\n",
    "print(f\"P-value: {p}\")\n"
   ]
  },
  {
   "cell_type": "raw",
   "id": "060639b4",
   "metadata": {},
   "source": [
    "18. A researcher wants to determine if there is a relationship between coffee consumption (None, Moderate, High) and productivity level (Low, Medium, High). The observed frequencies are as follows:\n",
    "\n",
    "            | Low | Medium | High |\n",
    "    --------------------------------\n",
    "    None        | 50   | 40      | 20   |\n",
    "    Moderate    | 60   | 70      | 50   |\n",
    "    High        | 30   | 40      | 60   |\n",
    "\n",
    "    Conduct a chi-square test of independence to examine if coffee consumption is associated with productivity level."
   ]
  },
  {
   "cell_type": "code",
   "execution_count": 19,
   "id": "0c899784",
   "metadata": {},
   "outputs": [
    {
     "name": "stdout",
     "output_type": "stream",
     "text": [
      "Chi-square statistic: 26.449584603430758\n",
      "P-value: 2.5679798577117373e-05\n"
     ]
    }
   ],
   "source": [
    "observed = np.array([[50, 40, 20], [60, 70, 50], [30, 40, 60]])\n",
    "\n",
    "chi2, p, _, _ = chi2_contingency(observed)\n",
    "\n",
    "print(f\"Chi-square statistic: {chi2}\")\n",
    "print(f\"P-value: {p}\")\n"
   ]
  },
  {
   "cell_type": "raw",
   "id": "d73813aa",
   "metadata": {},
   "source": [
    "19. In a study, 200 participants were asked about their preferred gaming platform (PlayStation, Xbox, PC) and their age group (18-24, 25-34, 35-44). The observed frequencies are as follows:\n",
    "\n",
    "            | PlayStation | Xbox | PC |\n",
    "    ----------------------------------\n",
    "    18-24       | 80           | 60    | 40  |\n",
    "    25-34       | 70           | 80    | 50  |\n",
    "    35-44       | 40           | 50    | 60  |\n",
    "\n",
    "    Perform a chi-square test of independence to determine if there is an association between gaming platform and age group."
   ]
  },
  {
   "cell_type": "code",
   "execution_count": 20,
   "id": "08f79685",
   "metadata": {},
   "outputs": [
    {
     "name": "stdout",
     "output_type": "stream",
     "text": [
      "Chi-square statistic: 19.195711500974664\n",
      "P-value: 0.0007193201288627215\n"
     ]
    }
   ],
   "source": [
    "observed = np.array([[80, 60, 40], [70, 80, 50], [40, 50, 60]])\n",
    "\n",
    "chi2, p, _, _ = chi2_contingency(observed)\n",
    "\n",
    "print(f\"Chi-square statistic: {chi2}\")\n",
    "print(f\"P-value: {p}\")\n"
   ]
  },
  {
   "cell_type": "raw",
   "id": "0823daea",
   "metadata": {},
   "source": [
    "20. A survey was conducted to analyze the relationship between job satisfaction (Low, Medium, High) and job performance (Poor, Average, Good). The observed frequencies are as follows:\n",
    "\n",
    "            | Poor | Average | Good |\n",
    "    --------------------------------\n",
    "    Low         | 50   | 40      | 20   |\n",
    "    Medium      | 60   | 70      | 50   |\n",
    "    High        | 30   | 40      | 60   |\n",
    "\n",
    "    Perform a chi-square test of independence and determine if there is an association between job satisfaction and job performance."
   ]
  },
  {
   "cell_type": "code",
   "execution_count": 21,
   "id": "775fd0e9",
   "metadata": {},
   "outputs": [
    {
     "name": "stdout",
     "output_type": "stream",
     "text": [
      "Chi-square statistic: 26.449584603430758\n",
      "P-value: 2.5679798577117373e-05\n"
     ]
    }
   ],
   "source": [
    "observed = np.array([[50, 40, 20], [60, 70, 50], [30, 40, 60]])\n",
    "\n",
    "chi2, p, _, _ = chi2_contingency(observed)\n",
    "\n",
    "print(f\"Chi-square statistic: {chi2}\")\n",
    "print(f\"P-value: {p}\")\n"
   ]
  },
  {
   "cell_type": "raw",
   "id": "5d099842",
   "metadata": {},
   "source": [
    "21. A researcher wants to investigate the relationship between exercise frequency (None, Moderate, High) and body mass index (BMI) category (Underweight, Normal, Overweight). The observed frequencies are as follows:\n",
    "\n",
    "            | Underweight | Normal | Overweight |\n",
    "    ----------------------------------------------\n",
    "    None            | 40              | 30       | 20                |\n",
    "    Moderate        | 50              | 60       | 40                |\n",
    "    High            | 30              | 40       | 50                |\n",
    "\n",
    "    Conduct a chi-square test of independence and determine if exercise frequency is related to BMI category."
   ]
  },
  {
   "cell_type": "code",
   "execution_count": 22,
   "id": "493b8a5f",
   "metadata": {},
   "outputs": [
    {
     "name": "stdout",
     "output_type": "stream",
     "text": [
      "Chi-square statistic: 14.546620046620053\n",
      "P-value: 0.0057401189280412036\n"
     ]
    }
   ],
   "source": [
    "observed = np.array([[40, 30, 20], [50, 60, 40], [30, 40, 50]])\n",
    "\n",
    "chi2, p, _, _ = chi2_contingency(observed)\n",
    "\n",
    "print(f\"Chi-square statistic: {chi2}\")\n",
    "print(f\"P-value: {p}\")\n"
   ]
  },
  {
   "cell_type": "raw",
   "id": "b94812c4",
   "metadata": {},
   "source": [
    "22. In a study, individuals were asked about their preferred clothing style (Casual, Formal, Sportswear) and their age group (18-24, 25-34, 35-44). The observed frequencies are as follows:\n",
    "\n",
    "            | Casual | Formal | Sportswear |\n",
    "    -----------------------------------------\n",
    "    18-24       | 100    | 80       | 50             |\n",
    "    25-34       | 90     | 70       | 60             |\n",
    "    35-44       | 60     | 50       | 40             |\n",
    "\n",
    "    Conduct a chi-square test of independence to determine if there is an association between clothing style and age group."
   ]
  },
  {
   "cell_type": "code",
   "execution_count": 23,
   "id": "4f868881",
   "metadata": {},
   "outputs": [
    {
     "name": "stdout",
     "output_type": "stream",
     "text": [
      "Chi-square statistic: 2.207378129117259\n",
      "P-value: 0.6976787235640747\n"
     ]
    }
   ],
   "source": [
    "observed = np.array([[100, 80, 50], [90, 70, 60], [60, 50, 40]])\n",
    "\n",
    "chi2, p, _, _ = chi2_contingency(observed)\n",
    "\n",
    "print(f\"Chi-square statistic: {chi2}\")\n",
    "print(f\"P-value: {p}\")\n"
   ]
  },
  {
   "cell_type": "raw",
   "id": "b601c54f",
   "metadata": {},
   "source": [
    "23. A survey was conducted to determine if there is an association between educational background (Science, Arts, Commerce) and career field (STEM, Humanities, Business). The observed frequencies are as follows:\n",
    "\n",
    "            | STEM | Humanities | Business |\n",
    "    -----------------------------------------\n",
    "    Science   | 80    | 60            | 40           |\n",
    "    Arts          | 70    | 80            | 50           |\n",
    "    Commerce | 40    | 50            | 60           |\n",
    "\n",
    "    Perform a chi-square test of independence and determine if there is a significant relationship between educational background and career field."
   ]
  },
  {
   "cell_type": "code",
   "execution_count": 24,
   "id": "b1752ece",
   "metadata": {},
   "outputs": [
    {
     "name": "stdout",
     "output_type": "stream",
     "text": [
      "Chi-square statistic: 19.195711500974664\n",
      "P-value: 0.0007193201288627215\n"
     ]
    }
   ],
   "source": [
    "observed = np.array([[80, 60, 40], [70, 80, 50], [40, 50, 60]])\n",
    "\n",
    "chi2, p, _, _ = chi2_contingency(observed)\n",
    "\n",
    "print(f\"Chi-square statistic: {chi2}\")\n",
    "print(f\"P-value: {p}\")\n"
   ]
  },
  {
   "cell_type": "raw",
   "id": "f13ebdea",
   "metadata": {},
   "source": [
    "24. In a study, participants were asked about their marital status (Single, Married, Divorced) and their satisfaction with personal relationships (Low, Medium, High). The observed frequencies are as follows:\n",
    "\n",
    "            | Low | Medium | High |\n",
    "    --------------------------------\n",
    "    Single       | 50   | 40       | 20   |\n",
    "    Married  | 60   | 70       | 50   |\n",
    "    Divorced  | 30   | 40       | 60   |\n",
    "\n",
    "    Conduct a chi-square test of independence and determine if there is an association between marital status and satisfaction with personal relationships."
   ]
  },
  {
   "cell_type": "code",
   "execution_count": 25,
   "id": "60854bd7",
   "metadata": {},
   "outputs": [
    {
     "name": "stdout",
     "output_type": "stream",
     "text": [
      "Chi-square statistic: 26.449584603430758\n",
      "P-value: 2.5679798577117373e-05\n"
     ]
    }
   ],
   "source": [
    "observed = np.array([[50, 40, 20], [60, 70, 50], [30, 40, 60]])\n",
    "\n",
    "chi2, p, _, _ = chi2_contingency(observed)\n",
    "\n",
    "print(f\"Chi-square statistic: {chi2}\")\n",
    "print(f\"P-value: {p}\")\n"
   ]
  },
  {
   "cell_type": "raw",
   "id": "d5da961f",
   "metadata": {},
   "source": [
    "25. A researcher wants to determine if there is a relationship between smartphone usage (Low, Medium, High) and productivity level (Low, Medium, High). The observed frequencies are as follows:\n",
    "\n",
    "            | Low | Medium | High |\n",
    "    --------------------------------\n",
    "    Low         | 50   | 40      | 20   |\n",
    "    Medium  | 60   | 70      | 50   |\n",
    "    High        | 30   | 40      | 60   |\n",
    "\n",
    "    Perform a chi-square test of independence to examine if smartphone usage is associated with productivity level."
   ]
  },
  {
   "cell_type": "code",
   "execution_count": 26,
   "id": "279235f5",
   "metadata": {},
   "outputs": [
    {
     "name": "stdout",
     "output_type": "stream",
     "text": [
      "Chi-square statistic: 26.449584603430758\n",
      "P-value: 2.5679798577117373e-05\n"
     ]
    }
   ],
   "source": [
    "observed = np.array([[50, 40, 20], [60, 70, 50], [30, 40, 60]])\n",
    "\n",
    "chi2, p, _, _ = chi2_contingency(observed)\n",
    "\n",
    "print(f\"Chi-square statistic: {chi2}\")\n",
    "print(f\"P-value: {p}\")\n"
   ]
  },
  {
   "cell_type": "raw",
   "id": "4943cbd5",
   "metadata": {},
   "source": [
    "26. In a study, participants were asked about their preferred mode of communication (Phone, Email, Text) and their age group (18-24, 25-34, 35-44). The observed frequencies are as follows:\n",
    "\n",
    "            | Phone | Email | Text |\n",
    "    --------------------------------\n",
    "    18-24       | 100    | 80     | 50     |\n",
    "    25-34       | 90     | 70     | 60     |\n",
    "    35-44       | 60     | 50     | 40     |\n",
    "\n",
    "    Conduct a chi-square test of independence to determine if there is an association between mode of communication and age group."
   ]
  },
  {
   "cell_type": "code",
   "execution_count": 27,
   "id": "2c7d4e64",
   "metadata": {},
   "outputs": [
    {
     "name": "stdout",
     "output_type": "stream",
     "text": [
      "Chi-square statistic: 2.207378129117259\n",
      "P-value: 0.6976787235640747\n"
     ]
    }
   ],
   "source": [
    "\n",
    "observed = np.array([[100, 80, 50], [90, 70, 60], [60, 50, 40]])\n",
    "\n",
    "chi2, p, _, _ = chi2_contingency(observed)\n",
    "\n",
    "print(f\"Chi-square statistic: {chi2}\")\n",
    "print(f\"P-value: {p}\")\n"
   ]
  },
  {
   "cell_type": "raw",
   "id": "edbc3a69",
   "metadata": {},
   "source": [
    "27. A survey was conducted to analyze the relationship between breakfast choices (Cereal, Eggs, Pancakes) and morning energy levels (Low, Medium, High). The observed frequencies are as follows:\n",
    "\n",
    "            | Low | Medium | High |\n",
    "    --------------------------------\n",
    "    Cereal        | 50   | 40       | 20   |\n",
    "    Eggs          | 60   | 70       | 50   |\n",
    "    Pancakes  | 30   | 40       | 60   |\n",
    "\n",
    "    Perform a chi-square test of independence and determine if there is an association between breakfast"
   ]
  },
  {
   "cell_type": "code",
   "execution_count": 28,
   "id": "b8e3d7f1",
   "metadata": {},
   "outputs": [
    {
     "name": "stdout",
     "output_type": "stream",
     "text": [
      "Chi-square statistic: 26.449584603430758\n",
      "P-value: 2.5679798577117373e-05\n"
     ]
    }
   ],
   "source": [
    "observed = np.array([[50, 40, 20], [60, 70, 50], [30, 40, 60]])\n",
    "\n",
    "chi2, p, _, _ = chi2_contingency(observed)\n",
    "\n",
    "print(f\"Chi-square statistic: {chi2}\")\n",
    "print(f\"P-value: {p}\")\n"
   ]
  },
  {
   "cell_type": "raw",
   "id": "05bd9c0c",
   "metadata": {},
   "source": [
    "28. A researcher wants to investigate the relationship between exercise frequency (None, Moderate, High) and mental health status (Poor, Average, Good). The observed frequencies are as follows:\n",
    "\n",
    "            | Poor | Average | Good |\n",
    "    --------------------------------\n",
    "    None        | 30   | 20     | 10   |\n",
    "    Moderate    | 40   | 50     | 30   |\n",
    "    High        | 20   | 30     | 40   |\n",
    "\n",
    "    Perform a chi-square test of independence and determine if there is a significant association between exercise frequency and mental health status."
   ]
  },
  {
   "cell_type": "code",
   "execution_count": 29,
   "id": "5cca8802",
   "metadata": {},
   "outputs": [
    {
     "name": "stdout",
     "output_type": "stream",
     "text": [
      "Chi-square statistic: 20.520833333333332\n",
      "P-value: 0.00039401442388340644\n"
     ]
    }
   ],
   "source": [
    "observed = np.array([[30, 20, 10], [40, 50, 30], [20, 30, 40]])\n",
    "\n",
    "chi2, p, _, _ = chi2_contingency(observed)\n",
    "\n",
    "print(f\"Chi-square statistic: {chi2}\")\n",
    "print(f\"P-value: {p}\")\n"
   ]
  },
  {
   "cell_type": "raw",
   "id": "13bc2460",
   "metadata": {},
   "source": [
    "29. In a survey, individuals were asked about their preferred learning style (Visual, Auditory, Kinesthetic) and their academic performance (Below Average, Average, Above Average). The observed frequencies are as follows:\n",
    "\n",
    "            | Below Average | Average | Above Average |\n",
    "    -------------------------------------------------------\n",
    "    Visual         | 50                  | 40          | 30                     |\n",
    "    Auditory       | 40                  | 50          | 60                     |\n",
    "    Kinesthetic    | 30                  | 40          | 50                     |\n",
    "\n",
    "    Conduct a chi-square test of independence to determine if there is an association between learning style and academic performance."
   ]
  },
  {
   "cell_type": "code",
   "execution_count": 30,
   "id": "92a47819",
   "metadata": {},
   "outputs": [
    {
     "name": "stdout",
     "output_type": "stream",
     "text": [
      "Chi-square statistic: 12.535714285714288\n",
      "P-value: 0.013781948150799807\n"
     ]
    }
   ],
   "source": [
    "observed = np.array([[50, 40, 30], [40, 50, 60], [30, 40, 50]])\n",
    "\n",
    "chi2, p, _, _ = chi2_contingency(observed)\n",
    "\n",
    "print(f\"Chi-square statistic: {chi2}\")\n",
    "print(f\"P-value: {p}\")\n"
   ]
  },
  {
   "cell_type": "raw",
   "id": "975f7fd1",
   "metadata": {},
   "source": [
    "30. A study was conducted to analyze the relationship between music preference (Rock, Pop, Classical) and age group (18-24, 25-34, 35-44). The observed frequencies are as follows:\n",
    "\n",
    "            | Rock | Pop | Classical |\n",
    "    ------------------------------------\n",
    "    18-24       | 100  | 80  | 50           |\n",
    "    25-34       | 90   | 70  | 60           |\n",
    "    35-44       | 60   | 50  | 40           |\n",
    "\n",
    "    Conduct a chi-square test of independence to determine if there is an association between music preference and age group.\n",
    "\n",
    "Remember to use appropriate Python libraries such as NumPy, Pandas, and SciPy to calculate the chi-square test statistic and perform the hypothesis testing."
   ]
  },
  {
   "cell_type": "code",
   "execution_count": 31,
   "id": "feabbc5e",
   "metadata": {},
   "outputs": [
    {
     "name": "stdout",
     "output_type": "stream",
     "text": [
      "Chi-square statistic: 2.207378129117259\n",
      "P-value: 0.6976787235640747\n"
     ]
    }
   ],
   "source": [
    "observed = np.array([[100, 80, 50], [90, 70, 60], [60, 50, 40]])\n",
    "\n",
    "chi2, p, _, _ = chi2_contingency(observed)\n",
    "\n",
    "print(f\"Chi-square statistic: {chi2}\")\n",
    "print(f\"P-value: {p}\")\n"
   ]
  }
 ],
 "metadata": {
  "kernelspec": {
   "display_name": "Python 3 (ipykernel)",
   "language": "python",
   "name": "python3"
  },
  "language_info": {
   "codemirror_mode": {
    "name": "ipython",
    "version": 3
   },
   "file_extension": ".py",
   "mimetype": "text/x-python",
   "name": "python",
   "nbconvert_exporter": "python",
   "pygments_lexer": "ipython3",
   "version": "3.9.13"
  }
 },
 "nbformat": 4,
 "nbformat_minor": 5
}
